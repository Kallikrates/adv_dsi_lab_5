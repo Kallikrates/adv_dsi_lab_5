{
 "cells": [
  {
   "cell_type": "code",
   "execution_count": 21,
   "metadata": {},
   "outputs": [
    {
     "data": {
      "text/plain": [
       "'/home/jovyan/work/adv_dsi_lab_5/notebooks'"
      ]
     },
     "execution_count": 21,
     "metadata": {},
     "output_type": "execute_result"
    }
   ],
   "source": [
    "import os\n",
    "os.getcwd()"
   ]
  },
  {
   "cell_type": "code",
   "execution_count": 22,
   "metadata": {},
   "outputs": [],
   "source": [
    "os.chdir('..')"
   ]
  },
  {
   "cell_type": "code",
   "execution_count": 23,
   "metadata": {},
   "outputs": [
    {
     "data": {
      "text/plain": [
       "'/home/jovyan/work/adv_dsi_lab_5'"
      ]
     },
     "execution_count": 23,
     "metadata": {},
     "output_type": "execute_result"
    }
   ],
   "source": [
    "import os\n",
    "os.getcwd()"
   ]
  },
  {
   "cell_type": "markdown",
   "metadata": {},
   "source": [
    "# 2.   Load and Explore Dataset"
   ]
  },
  {
   "cell_type": "code",
   "execution_count": 1,
   "metadata": {},
   "outputs": [],
   "source": [
    "%load_ext autoreload\n",
    "%autoreload 2"
   ]
  },
  {
   "cell_type": "code",
   "execution_count": 72,
   "metadata": {},
   "outputs": [],
   "source": [
    "import pandas as pd\n",
    "import numpy as np\n",
    "import torch\n",
    "import torch.nn as nn\n",
    "import torch.nn.functional as F"
   ]
  },
  {
   "cell_type": "code",
   "execution_count": 3,
   "metadata": {},
   "outputs": [],
   "source": [
    "file_url = 'https://raw.githubusercontent.com/aso-uts/applied_ds/master/unit3/dataset/Car%20Evaluation.csv'"
   ]
  },
  {
   "cell_type": "code",
   "execution_count": 4,
   "metadata": {},
   "outputs": [],
   "source": [
    "df = pd.read_csv(file_url)"
   ]
  },
  {
   "cell_type": "code",
   "execution_count": 5,
   "metadata": {},
   "outputs": [
    {
     "data": {
      "text/html": [
       "<div>\n",
       "<style scoped>\n",
       "    .dataframe tbody tr th:only-of-type {\n",
       "        vertical-align: middle;\n",
       "    }\n",
       "\n",
       "    .dataframe tbody tr th {\n",
       "        vertical-align: top;\n",
       "    }\n",
       "\n",
       "    .dataframe thead th {\n",
       "        text-align: right;\n",
       "    }\n",
       "</style>\n",
       "<table border=\"1\" class=\"dataframe\">\n",
       "  <thead>\n",
       "    <tr style=\"text-align: right;\">\n",
       "      <th></th>\n",
       "      <th>buying_price</th>\n",
       "      <th>maintenance_cost</th>\n",
       "      <th>doors</th>\n",
       "      <th>persons_capacity</th>\n",
       "      <th>luggage_boot</th>\n",
       "      <th>safety</th>\n",
       "      <th>evaluation</th>\n",
       "    </tr>\n",
       "  </thead>\n",
       "  <tbody>\n",
       "    <tr>\n",
       "      <th>0</th>\n",
       "      <td>vhigh</td>\n",
       "      <td>vhigh</td>\n",
       "      <td>2</td>\n",
       "      <td>2</td>\n",
       "      <td>small</td>\n",
       "      <td>low</td>\n",
       "      <td>unacc</td>\n",
       "    </tr>\n",
       "    <tr>\n",
       "      <th>1</th>\n",
       "      <td>vhigh</td>\n",
       "      <td>vhigh</td>\n",
       "      <td>2</td>\n",
       "      <td>2</td>\n",
       "      <td>small</td>\n",
       "      <td>med</td>\n",
       "      <td>unacc</td>\n",
       "    </tr>\n",
       "    <tr>\n",
       "      <th>2</th>\n",
       "      <td>vhigh</td>\n",
       "      <td>vhigh</td>\n",
       "      <td>2</td>\n",
       "      <td>2</td>\n",
       "      <td>small</td>\n",
       "      <td>high</td>\n",
       "      <td>unacc</td>\n",
       "    </tr>\n",
       "    <tr>\n",
       "      <th>3</th>\n",
       "      <td>vhigh</td>\n",
       "      <td>vhigh</td>\n",
       "      <td>2</td>\n",
       "      <td>2</td>\n",
       "      <td>med</td>\n",
       "      <td>low</td>\n",
       "      <td>unacc</td>\n",
       "    </tr>\n",
       "    <tr>\n",
       "      <th>4</th>\n",
       "      <td>vhigh</td>\n",
       "      <td>vhigh</td>\n",
       "      <td>2</td>\n",
       "      <td>2</td>\n",
       "      <td>med</td>\n",
       "      <td>med</td>\n",
       "      <td>unacc</td>\n",
       "    </tr>\n",
       "  </tbody>\n",
       "</table>\n",
       "</div>"
      ],
      "text/plain": [
       "  buying_price maintenance_cost doors persons_capacity luggage_boot safety  \\\n",
       "0        vhigh            vhigh     2                2        small    low   \n",
       "1        vhigh            vhigh     2                2        small    med   \n",
       "2        vhigh            vhigh     2                2        small   high   \n",
       "3        vhigh            vhigh     2                2          med    low   \n",
       "4        vhigh            vhigh     2                2          med    med   \n",
       "\n",
       "  evaluation  \n",
       "0      unacc  \n",
       "1      unacc  \n",
       "2      unacc  \n",
       "3      unacc  \n",
       "4      unacc  "
      ]
     },
     "execution_count": 5,
     "metadata": {},
     "output_type": "execute_result"
    }
   ],
   "source": [
    "df.head()"
   ]
  },
  {
   "cell_type": "code",
   "execution_count": 6,
   "metadata": {},
   "outputs": [
    {
     "data": {
      "text/plain": [
       "(1728, 7)"
      ]
     },
     "execution_count": 6,
     "metadata": {},
     "output_type": "execute_result"
    }
   ],
   "source": [
    "df.shape"
   ]
  },
  {
   "cell_type": "code",
   "execution_count": 7,
   "metadata": {},
   "outputs": [
    {
     "name": "stdout",
     "output_type": "stream",
     "text": [
      "<class 'pandas.core.frame.DataFrame'>\n",
      "RangeIndex: 1728 entries, 0 to 1727\n",
      "Data columns (total 7 columns):\n",
      "buying_price        1728 non-null object\n",
      "maintenance_cost    1728 non-null object\n",
      "doors               1728 non-null object\n",
      "persons_capacity    1728 non-null object\n",
      "luggage_boot        1728 non-null object\n",
      "safety              1728 non-null object\n",
      "evaluation          1728 non-null object\n",
      "dtypes: object(7)\n",
      "memory usage: 94.6+ KB\n"
     ]
    }
   ],
   "source": [
    "df.info()"
   ]
  },
  {
   "cell_type": "code",
   "execution_count": 8,
   "metadata": {},
   "outputs": [
    {
     "data": {
      "text/html": [
       "<div>\n",
       "<style scoped>\n",
       "    .dataframe tbody tr th:only-of-type {\n",
       "        vertical-align: middle;\n",
       "    }\n",
       "\n",
       "    .dataframe tbody tr th {\n",
       "        vertical-align: top;\n",
       "    }\n",
       "\n",
       "    .dataframe thead th {\n",
       "        text-align: right;\n",
       "    }\n",
       "</style>\n",
       "<table border=\"1\" class=\"dataframe\">\n",
       "  <thead>\n",
       "    <tr style=\"text-align: right;\">\n",
       "      <th></th>\n",
       "      <th>buying_price</th>\n",
       "      <th>maintenance_cost</th>\n",
       "      <th>doors</th>\n",
       "      <th>persons_capacity</th>\n",
       "      <th>luggage_boot</th>\n",
       "      <th>safety</th>\n",
       "      <th>evaluation</th>\n",
       "    </tr>\n",
       "  </thead>\n",
       "  <tbody>\n",
       "    <tr>\n",
       "      <th>count</th>\n",
       "      <td>1728</td>\n",
       "      <td>1728</td>\n",
       "      <td>1728</td>\n",
       "      <td>1728</td>\n",
       "      <td>1728</td>\n",
       "      <td>1728</td>\n",
       "      <td>1728</td>\n",
       "    </tr>\n",
       "    <tr>\n",
       "      <th>unique</th>\n",
       "      <td>4</td>\n",
       "      <td>4</td>\n",
       "      <td>4</td>\n",
       "      <td>3</td>\n",
       "      <td>3</td>\n",
       "      <td>3</td>\n",
       "      <td>4</td>\n",
       "    </tr>\n",
       "    <tr>\n",
       "      <th>top</th>\n",
       "      <td>med</td>\n",
       "      <td>med</td>\n",
       "      <td>4</td>\n",
       "      <td>more</td>\n",
       "      <td>big</td>\n",
       "      <td>med</td>\n",
       "      <td>unacc</td>\n",
       "    </tr>\n",
       "    <tr>\n",
       "      <th>freq</th>\n",
       "      <td>432</td>\n",
       "      <td>432</td>\n",
       "      <td>432</td>\n",
       "      <td>576</td>\n",
       "      <td>576</td>\n",
       "      <td>576</td>\n",
       "      <td>1210</td>\n",
       "    </tr>\n",
       "  </tbody>\n",
       "</table>\n",
       "</div>"
      ],
      "text/plain": [
       "       buying_price maintenance_cost doors persons_capacity luggage_boot  \\\n",
       "count          1728             1728  1728             1728         1728   \n",
       "unique            4                4     4                3            3   \n",
       "top             med              med     4             more          big   \n",
       "freq            432              432   432              576          576   \n",
       "\n",
       "       safety evaluation  \n",
       "count    1728       1728  \n",
       "unique      3          4  \n",
       "top       med      unacc  \n",
       "freq      576       1210  "
      ]
     },
     "execution_count": 8,
     "metadata": {},
     "output_type": "execute_result"
    }
   ],
   "source": [
    "df.describe()"
   ]
  },
  {
   "cell_type": "code",
   "execution_count": 9,
   "metadata": {},
   "outputs": [],
   "source": [
    "df.to_csv('../data/raw/car_evaluation.csv', index=False)"
   ]
  },
  {
   "cell_type": "code",
   "execution_count": 10,
   "metadata": {},
   "outputs": [],
   "source": [
    "df_cleaned = df.copy()"
   ]
  },
  {
   "cell_type": "markdown",
   "metadata": {},
   "source": [
    "Create a dictionary called cats_dict that contains the categorical variables as keys and their respective values sorted in ascending order"
   ]
  },
  {
   "cell_type": "code",
   "execution_count": 11,
   "metadata": {},
   "outputs": [],
   "source": [
    "cats_dict = {\n",
    "    'buying_price': [['low', 'med', 'high', 'vhigh']],\n",
    "    'maintenance_cost': [['low', 'med', 'high', 'vhigh']],\n",
    "    'doors': [['2', '3', '4', '5more']],\n",
    "    'persons_capacity': [['2', '4', 'more']],\n",
    "    'luggage_boot': [['small', 'med', 'big']],\n",
    "    'safety': [['low', 'med', 'high']],\n",
    "    'evaluation': [['unacc', 'acc', 'good', 'vgood']],\n",
    "}"
   ]
  },
  {
   "cell_type": "code",
   "execution_count": 12,
   "metadata": {},
   "outputs": [],
   "source": [
    "from sklearn.preprocessing import StandardScaler, OrdinalEncoder"
   ]
  },
  {
   "cell_type": "markdown",
   "metadata": {},
   "source": [
    "Iterate through the elements of cast_dict, instantiate an OrdinalEncoder() and transform the values of each column with this encoder"
   ]
  },
  {
   "cell_type": "code",
   "execution_count": 13,
   "metadata": {},
   "outputs": [],
   "source": [
    "for col, cats in cats_dict.items():\n",
    "    col_encoder = OrdinalEncoder(categories=cats)\n",
    "    df_cleaned[col] = col_encoder.fit_transform(df_cleaned[[col]])"
   ]
  },
  {
   "cell_type": "code",
   "execution_count": 14,
   "metadata": {},
   "outputs": [],
   "source": [
    "num_cols = ['buying_price', 'maintenance_cost', 'doors', 'persons_capacity', 'luggage_boot', 'safety']"
   ]
  },
  {
   "cell_type": "code",
   "execution_count": 16,
   "metadata": {},
   "outputs": [],
   "source": [
    "sc = StandardScaler()"
   ]
  },
  {
   "cell_type": "markdown",
   "metadata": {},
   "source": [
    "Fit and transform the numeric feature of X_train_cleaned and replace the data into it"
   ]
  },
  {
   "cell_type": "code",
   "execution_count": 17,
   "metadata": {},
   "outputs": [],
   "source": [
    "df_cleaned[num_cols] = sc.fit_transform(df_cleaned[num_cols])"
   ]
  },
  {
   "cell_type": "markdown",
   "metadata": {},
   "source": [
    "Convert the column evaluation as integer"
   ]
  },
  {
   "cell_type": "code",
   "execution_count": 18,
   "metadata": {},
   "outputs": [],
   "source": [
    "df_cleaned['evaluation'] = df_cleaned['evaluation'].astype(int)"
   ]
  },
  {
   "cell_type": "code",
   "execution_count": 32,
   "metadata": {},
   "outputs": [
    {
     "data": {
      "text/html": [
       "<div>\n",
       "<style scoped>\n",
       "    .dataframe tbody tr th:only-of-type {\n",
       "        vertical-align: middle;\n",
       "    }\n",
       "\n",
       "    .dataframe tbody tr th {\n",
       "        vertical-align: top;\n",
       "    }\n",
       "\n",
       "    .dataframe thead th {\n",
       "        text-align: right;\n",
       "    }\n",
       "</style>\n",
       "<table border=\"1\" class=\"dataframe\">\n",
       "  <thead>\n",
       "    <tr style=\"text-align: right;\">\n",
       "      <th></th>\n",
       "      <th>buying_price</th>\n",
       "      <th>maintenance_cost</th>\n",
       "      <th>doors</th>\n",
       "      <th>persons_capacity</th>\n",
       "      <th>luggage_boot</th>\n",
       "      <th>safety</th>\n",
       "      <th>evaluation</th>\n",
       "    </tr>\n",
       "  </thead>\n",
       "  <tbody>\n",
       "    <tr>\n",
       "      <th>0</th>\n",
       "      <td>1.341641</td>\n",
       "      <td>1.341641</td>\n",
       "      <td>-1.341641</td>\n",
       "      <td>-1.224745</td>\n",
       "      <td>-1.224745</td>\n",
       "      <td>-1.224745</td>\n",
       "      <td>0</td>\n",
       "    </tr>\n",
       "    <tr>\n",
       "      <th>1</th>\n",
       "      <td>1.341641</td>\n",
       "      <td>1.341641</td>\n",
       "      <td>-1.341641</td>\n",
       "      <td>-1.224745</td>\n",
       "      <td>-1.224745</td>\n",
       "      <td>0.000000</td>\n",
       "      <td>0</td>\n",
       "    </tr>\n",
       "    <tr>\n",
       "      <th>2</th>\n",
       "      <td>1.341641</td>\n",
       "      <td>1.341641</td>\n",
       "      <td>-1.341641</td>\n",
       "      <td>-1.224745</td>\n",
       "      <td>-1.224745</td>\n",
       "      <td>1.224745</td>\n",
       "      <td>0</td>\n",
       "    </tr>\n",
       "    <tr>\n",
       "      <th>3</th>\n",
       "      <td>1.341641</td>\n",
       "      <td>1.341641</td>\n",
       "      <td>-1.341641</td>\n",
       "      <td>-1.224745</td>\n",
       "      <td>0.000000</td>\n",
       "      <td>-1.224745</td>\n",
       "      <td>0</td>\n",
       "    </tr>\n",
       "    <tr>\n",
       "      <th>4</th>\n",
       "      <td>1.341641</td>\n",
       "      <td>1.341641</td>\n",
       "      <td>-1.341641</td>\n",
       "      <td>-1.224745</td>\n",
       "      <td>0.000000</td>\n",
       "      <td>0.000000</td>\n",
       "      <td>0</td>\n",
       "    </tr>\n",
       "    <tr>\n",
       "      <th>...</th>\n",
       "      <td>...</td>\n",
       "      <td>...</td>\n",
       "      <td>...</td>\n",
       "      <td>...</td>\n",
       "      <td>...</td>\n",
       "      <td>...</td>\n",
       "      <td>...</td>\n",
       "    </tr>\n",
       "    <tr>\n",
       "      <th>1723</th>\n",
       "      <td>-1.341641</td>\n",
       "      <td>-1.341641</td>\n",
       "      <td>1.341641</td>\n",
       "      <td>1.224745</td>\n",
       "      <td>0.000000</td>\n",
       "      <td>0.000000</td>\n",
       "      <td>2</td>\n",
       "    </tr>\n",
       "    <tr>\n",
       "      <th>1724</th>\n",
       "      <td>-1.341641</td>\n",
       "      <td>-1.341641</td>\n",
       "      <td>1.341641</td>\n",
       "      <td>1.224745</td>\n",
       "      <td>0.000000</td>\n",
       "      <td>1.224745</td>\n",
       "      <td>3</td>\n",
       "    </tr>\n",
       "    <tr>\n",
       "      <th>1725</th>\n",
       "      <td>-1.341641</td>\n",
       "      <td>-1.341641</td>\n",
       "      <td>1.341641</td>\n",
       "      <td>1.224745</td>\n",
       "      <td>1.224745</td>\n",
       "      <td>-1.224745</td>\n",
       "      <td>0</td>\n",
       "    </tr>\n",
       "    <tr>\n",
       "      <th>1726</th>\n",
       "      <td>-1.341641</td>\n",
       "      <td>-1.341641</td>\n",
       "      <td>1.341641</td>\n",
       "      <td>1.224745</td>\n",
       "      <td>1.224745</td>\n",
       "      <td>0.000000</td>\n",
       "      <td>2</td>\n",
       "    </tr>\n",
       "    <tr>\n",
       "      <th>1727</th>\n",
       "      <td>-1.341641</td>\n",
       "      <td>-1.341641</td>\n",
       "      <td>1.341641</td>\n",
       "      <td>1.224745</td>\n",
       "      <td>1.224745</td>\n",
       "      <td>1.224745</td>\n",
       "      <td>3</td>\n",
       "    </tr>\n",
       "  </tbody>\n",
       "</table>\n",
       "<p>1728 rows × 7 columns</p>\n",
       "</div>"
      ],
      "text/plain": [
       "      buying_price  maintenance_cost     doors  persons_capacity  \\\n",
       "0         1.341641          1.341641 -1.341641         -1.224745   \n",
       "1         1.341641          1.341641 -1.341641         -1.224745   \n",
       "2         1.341641          1.341641 -1.341641         -1.224745   \n",
       "3         1.341641          1.341641 -1.341641         -1.224745   \n",
       "4         1.341641          1.341641 -1.341641         -1.224745   \n",
       "...            ...               ...       ...               ...   \n",
       "1723     -1.341641         -1.341641  1.341641          1.224745   \n",
       "1724     -1.341641         -1.341641  1.341641          1.224745   \n",
       "1725     -1.341641         -1.341641  1.341641          1.224745   \n",
       "1726     -1.341641         -1.341641  1.341641          1.224745   \n",
       "1727     -1.341641         -1.341641  1.341641          1.224745   \n",
       "\n",
       "      luggage_boot    safety  evaluation  \n",
       "0        -1.224745 -1.224745           0  \n",
       "1        -1.224745  0.000000           0  \n",
       "2        -1.224745  1.224745           0  \n",
       "3         0.000000 -1.224745           0  \n",
       "4         0.000000  0.000000           0  \n",
       "...            ...       ...         ...  \n",
       "1723      0.000000  0.000000           2  \n",
       "1724      0.000000  1.224745           3  \n",
       "1725      1.224745 -1.224745           0  \n",
       "1726      1.224745  0.000000           2  \n",
       "1727      1.224745  1.224745           3  \n",
       "\n",
       "[1728 rows x 7 columns]"
      ]
     },
     "execution_count": 32,
     "metadata": {},
     "output_type": "execute_result"
    }
   ],
   "source": [
    "df_cleaned"
   ]
  },
  {
   "cell_type": "code",
   "execution_count": 49,
   "metadata": {},
   "outputs": [],
   "source": [
    "target_col = 'evaluation'"
   ]
  },
  {
   "cell_type": "code",
   "execution_count": 50,
   "metadata": {},
   "outputs": [],
   "source": [
    "X = df_cleaned"
   ]
  },
  {
   "cell_type": "code",
   "execution_count": 51,
   "metadata": {},
   "outputs": [],
   "source": [
    "from adv_dsi_lab_5.src.data.sets import split_sets_by_time, save_sets, split_sets_random"
   ]
  },
  {
   "cell_type": "code",
   "execution_count": 52,
   "metadata": {},
   "outputs": [],
   "source": [
    "X_train, y_train, X_val, y_val, X_test, y_test = split_sets_random(X, target_col=target_col, test_ratio=0.2, to_numpy=True)"
   ]
  },
  {
   "cell_type": "markdown",
   "metadata": {},
   "source": [
    "Save the sets in the data/processed/beijing_pollution folder"
   ]
  },
  {
   "cell_type": "code",
   "execution_count": 53,
   "metadata": {},
   "outputs": [],
   "source": [
    "save_sets(X_train=X_train, y_train=y_train, X_val=X_val, y_val=y_val, X_test=X_test, y_test=y_test, path='data/processed/car_evaluation/')"
   ]
  },
  {
   "cell_type": "markdown",
   "metadata": {},
   "source": [
    "Import this class from src/models/pytorch and convert all sets to PytorchDataset"
   ]
  },
  {
   "cell_type": "code",
   "execution_count": 55,
   "metadata": {},
   "outputs": [],
   "source": [
    "from adv_dsi_lab_5.src.models.pytorch import PytorchDataset\n",
    "\n",
    "train_dataset = PytorchDataset(X=X_train, y=y_train)\n",
    "val_dataset = PytorchDataset(X=X_val, y=y_val)\n",
    "test_dataset = PytorchDataset(X=X_test, y=y_test)"
   ]
  },
  {
   "cell_type": "markdown",
   "metadata": {},
   "source": [
    "# 4. Baseline Model"
   ]
  },
  {
   "cell_type": "code",
   "execution_count": 57,
   "metadata": {},
   "outputs": [],
   "source": [
    "from adv_dsi_lab_5.src.models.null import NullModel"
   ]
  },
  {
   "cell_type": "markdown",
   "metadata": {},
   "source": [
    "Instantiate a NullModel and call .fit_predict() on the training target to extract your predictions into a variable called y_base"
   ]
  },
  {
   "cell_type": "code",
   "execution_count": 58,
   "metadata": {},
   "outputs": [],
   "source": [
    "baseline_model = NullModel(target_type='classification')\n",
    "y_base = baseline_model.fit_predict(y_train)"
   ]
  },
  {
   "cell_type": "code",
   "execution_count": 60,
   "metadata": {},
   "outputs": [],
   "source": [
    "from adv_dsi_lab_5.src.models.performance import print_class_perf"
   ]
  },
  {
   "cell_type": "code",
   "execution_count": 61,
   "metadata": {},
   "outputs": [
    {
     "name": "stdout",
     "output_type": "stream",
     "text": [
      "Accuracy Training: 0.6988416988416989\n",
      "F1 Training: 0.5749561249561249\n"
     ]
    }
   ],
   "source": [
    "print_class_perf(y_base, y_train, set_name='Training', average='weighted')"
   ]
  },
  {
   "cell_type": "markdown",
   "metadata": {},
   "source": [
    "# 5. Define Architecture"
   ]
  },
  {
   "cell_type": "markdown",
   "metadata": {},
   "source": [
    "Create in src/models/pytorch.py a class called PytorchMultiClass that inherits from nn.Module with:\n",
    "\n",
    "num_features as input parameter\n",
    "attributes:\n",
    "layer_1: fully-connected layer with 32 neurons\n",
    "layer_out: fully-connected layer with 4 neurons\n",
    "softmax: softmax function\n",
    "methods:\n",
    "forward() with inputs as input parameter, perform ReLU and DropOut on the fully-connected layer followed by the output layer with softmax"
   ]
  },
  {
   "cell_type": "markdown",
   "metadata": {},
   "source": [
    "class PytorchMultiClass(nn.Module):\n",
    "    def __init__(self, num_features):\n",
    "        super(PytorchMultiClass, self).__init__()\n",
    "        \n",
    "        self.layer_1 = nn.Linear(num_features, 32)\n",
    "        self.layer_out = nn.Linear(32, 4)\n",
    "        self.softmax = nn.Softmax(dim=1)\n",
    "\n",
    "    def forward(self, x):\n",
    "        x = F.dropout(F.relu(self.layer_1(x)), training=self.training)\n",
    "        x = self.layer_out(x)\n",
    "        return self.softmax(x)"
   ]
  },
  {
   "cell_type": "code",
   "execution_count": 68,
   "metadata": {},
   "outputs": [],
   "source": [
    "from adv_dsi_lab_5.src.models.pytorch import PytorchMultiClass\n",
    "\n",
    "model = PytorchMultiClass(X_train.shape[1])"
   ]
  },
  {
   "cell_type": "markdown",
   "metadata": {},
   "source": [
    "Set model to use the device available"
   ]
  },
  {
   "cell_type": "code",
   "execution_count": 69,
   "metadata": {},
   "outputs": [
    {
     "data": {
      "text/plain": [
       "PytorchMultiClass(\n",
       "  (layer_1): Linear(in_features=6, out_features=32, bias=True)\n",
       "  (layer_out): Linear(in_features=32, out_features=4, bias=True)\n",
       "  (softmax): Softmax(dim=1)\n",
       ")"
      ]
     },
     "execution_count": 69,
     "metadata": {},
     "output_type": "execute_result"
    }
   ],
   "source": [
    "from adv_dsi_lab_5.src.models.pytorch import get_device\n",
    "\n",
    "device = get_device()\n",
    "model.to(device)"
   ]
  },
  {
   "cell_type": "code",
   "execution_count": 70,
   "metadata": {},
   "outputs": [
    {
     "name": "stdout",
     "output_type": "stream",
     "text": [
      "PytorchMultiClass(\n",
      "  (layer_1): Linear(in_features=6, out_features=32, bias=True)\n",
      "  (layer_out): Linear(in_features=32, out_features=4, bias=True)\n",
      "  (softmax): Softmax(dim=1)\n",
      ")\n"
     ]
    }
   ],
   "source": [
    "print(model)"
   ]
  },
  {
   "cell_type": "markdown",
   "metadata": {},
   "source": [
    "# 6. Train Model"
   ]
  },
  {
   "cell_type": "markdown",
   "metadata": {},
   "source": [
    "Instantiate a nn.CrossEntropyLoss() and save it into a variable called criterion"
   ]
  },
  {
   "cell_type": "code",
   "execution_count": 73,
   "metadata": {},
   "outputs": [],
   "source": [
    "criterion = nn.CrossEntropyLoss()"
   ]
  },
  {
   "cell_type": "markdown",
   "metadata": {},
   "source": [
    "Instantiate a torch.optim.Adam() optimizer with the model's parameters and 0.1 as learning rate and save it into a variable called optimizer"
   ]
  },
  {
   "cell_type": "code",
   "execution_count": 74,
   "metadata": {},
   "outputs": [],
   "source": [
    "optimizer = torch.optim.Adam(model.parameters(), lr=0.1)"
   ]
  },
  {
   "cell_type": "code",
   "execution_count": 76,
   "metadata": {},
   "outputs": [],
   "source": [
    "from adv_dsi_lab_5.src.models.train_classification_model import train_classification\n",
    "from adv_dsi_lab_5.src.models.test_classification_model import test_classification"
   ]
  },
  {
   "cell_type": "code",
   "execution_count": 77,
   "metadata": {},
   "outputs": [],
   "source": [
    "N_EPOCHS = 50\n",
    "BATCH_SIZE = 32"
   ]
  },
  {
   "cell_type": "markdown",
   "metadata": {},
   "source": [
    "Create a for loop that will iterate through the specified number of epochs and will train the model with the training set and assess the performance on the validation set and print their scores"
   ]
  },
  {
   "cell_type": "code",
   "execution_count": 78,
   "metadata": {},
   "outputs": [
    {
     "name": "stdout",
     "output_type": "stream",
     "text": [
      "Epoch: 0\n",
      "\t(train)\t|\tLoss: 0.0316\t|\tAcc: 75.2%\n",
      "Epoch: 1\n",
      "\t(train)\t|\tLoss: 0.0299\t|\tAcc: 80.4%\n",
      "Epoch: 2\n",
      "\t(train)\t|\tLoss: 0.0303\t|\tAcc: 79.2%\n",
      "Epoch: 3\n",
      "\t(train)\t|\tLoss: 0.0299\t|\tAcc: 80.5%\n",
      "Epoch: 4\n",
      "\t(train)\t|\tLoss: 0.0294\t|\tAcc: 82.7%\n",
      "Epoch: 5\n",
      "\t(train)\t|\tLoss: 0.0291\t|\tAcc: 82.4%\n",
      "Epoch: 6\n",
      "\t(train)\t|\tLoss: 0.0291\t|\tAcc: 82.5%\n",
      "Epoch: 7\n",
      "\t(train)\t|\tLoss: 0.0289\t|\tAcc: 83.4%\n",
      "Epoch: 8\n",
      "\t(train)\t|\tLoss: 0.0287\t|\tAcc: 83.9%\n",
      "Epoch: 9\n",
      "\t(train)\t|\tLoss: 0.0293\t|\tAcc: 82.8%\n",
      "Epoch: 10\n",
      "\t(train)\t|\tLoss: 0.0287\t|\tAcc: 84.2%\n",
      "Epoch: 11\n",
      "\t(train)\t|\tLoss: 0.0284\t|\tAcc: 85.4%\n",
      "Epoch: 12\n",
      "\t(train)\t|\tLoss: 0.0281\t|\tAcc: 86.0%\n",
      "Epoch: 13\n",
      "\t(train)\t|\tLoss: 0.0285\t|\tAcc: 84.6%\n",
      "Epoch: 14\n",
      "\t(train)\t|\tLoss: 0.0284\t|\tAcc: 84.7%\n",
      "Epoch: 15\n",
      "\t(train)\t|\tLoss: 0.0288\t|\tAcc: 84.0%\n",
      "Epoch: 16\n",
      "\t(train)\t|\tLoss: 0.0280\t|\tAcc: 86.5%\n",
      "Epoch: 17\n",
      "\t(train)\t|\tLoss: 0.0281\t|\tAcc: 86.1%\n",
      "Epoch: 18\n",
      "\t(train)\t|\tLoss: 0.0281\t|\tAcc: 86.0%\n",
      "Epoch: 19\n",
      "\t(train)\t|\tLoss: 0.0286\t|\tAcc: 84.4%\n",
      "Epoch: 20\n",
      "\t(train)\t|\tLoss: 0.0285\t|\tAcc: 84.8%\n",
      "Epoch: 21\n",
      "\t(train)\t|\tLoss: 0.0293\t|\tAcc: 82.5%\n",
      "Epoch: 22\n",
      "\t(train)\t|\tLoss: 0.0291\t|\tAcc: 83.4%\n",
      "Epoch: 23\n",
      "\t(train)\t|\tLoss: 0.0288\t|\tAcc: 84.3%\n",
      "Epoch: 24\n",
      "\t(train)\t|\tLoss: 0.0288\t|\tAcc: 84.3%\n",
      "Epoch: 25\n",
      "\t(train)\t|\tLoss: 0.0285\t|\tAcc: 84.8%\n",
      "Epoch: 26\n",
      "\t(train)\t|\tLoss: 0.0279\t|\tAcc: 87.2%\n",
      "Epoch: 27\n",
      "\t(train)\t|\tLoss: 0.0278\t|\tAcc: 87.2%\n",
      "Epoch: 28\n",
      "\t(train)\t|\tLoss: 0.0287\t|\tAcc: 84.3%\n",
      "Epoch: 29\n",
      "\t(train)\t|\tLoss: 0.0290\t|\tAcc: 83.1%\n",
      "Epoch: 30\n",
      "\t(train)\t|\tLoss: 0.0285\t|\tAcc: 85.0%\n",
      "Epoch: 31\n",
      "\t(train)\t|\tLoss: 0.0283\t|\tAcc: 85.4%\n",
      "Epoch: 32\n",
      "\t(train)\t|\tLoss: 0.0281\t|\tAcc: 86.3%\n",
      "Epoch: 33\n",
      "\t(train)\t|\tLoss: 0.0280\t|\tAcc: 86.3%\n",
      "Epoch: 34\n",
      "\t(train)\t|\tLoss: 0.0282\t|\tAcc: 86.4%\n",
      "Epoch: 35\n",
      "\t(train)\t|\tLoss: 0.0289\t|\tAcc: 83.4%\n",
      "Epoch: 36\n",
      "\t(train)\t|\tLoss: 0.0291\t|\tAcc: 83.0%\n",
      "Epoch: 37\n",
      "\t(train)\t|\tLoss: 0.0292\t|\tAcc: 83.3%\n",
      "Epoch: 38\n",
      "\t(train)\t|\tLoss: 0.0288\t|\tAcc: 83.9%\n",
      "Epoch: 39\n",
      "\t(train)\t|\tLoss: 0.0290\t|\tAcc: 83.4%\n",
      "Epoch: 40\n",
      "\t(train)\t|\tLoss: 0.0287\t|\tAcc: 84.2%\n",
      "Epoch: 41\n",
      "\t(train)\t|\tLoss: 0.0289\t|\tAcc: 83.3%\n",
      "Epoch: 42\n",
      "\t(train)\t|\tLoss: 0.0285\t|\tAcc: 84.7%\n",
      "Epoch: 43\n",
      "\t(train)\t|\tLoss: 0.0285\t|\tAcc: 85.1%\n",
      "Epoch: 44\n",
      "\t(train)\t|\tLoss: 0.0283\t|\tAcc: 85.9%\n",
      "Epoch: 45\n",
      "\t(train)\t|\tLoss: 0.0283\t|\tAcc: 85.4%\n",
      "Epoch: 46\n",
      "\t(train)\t|\tLoss: 0.0281\t|\tAcc: 86.2%\n",
      "Epoch: 47\n",
      "\t(train)\t|\tLoss: 0.0278\t|\tAcc: 86.9%\n",
      "Epoch: 48\n",
      "\t(train)\t|\tLoss: 0.0283\t|\tAcc: 85.6%\n",
      "Epoch: 49\n",
      "\t(train)\t|\tLoss: 0.0286\t|\tAcc: 84.5%\n"
     ]
    }
   ],
   "source": [
    "for epoch in range(N_EPOCHS):\n",
    "    train_loss, train_acc = train_classification(train_dataset, model=model, criterion=criterion, optimizer=optimizer, batch_size=BATCH_SIZE, device=device)\n",
    "    valid_loss, valid_acc = test_classification(val_dataset, model=model, criterion=criterion, batch_size=BATCH_SIZE, device=device)\n",
    "\n",
    "    print(f'Epoch: {epoch}')\n",
    "    print(f'\\t(train)\\t|\\tLoss: {train_loss:.4f}\\t|\\tAcc: {train_acc * 100:.1f}%')"
   ]
  },
  {
   "cell_type": "markdown",
   "metadata": {},
   "source": [
    "Save model"
   ]
  },
  {
   "cell_type": "code",
   "execution_count": 79,
   "metadata": {},
   "outputs": [],
   "source": [
    "torch.save(model, \"models/pytorch_multi_car_evaluation.pt\")"
   ]
  },
  {
   "cell_type": "markdown",
   "metadata": {},
   "source": [
    "Assess the model performance on the testing set and print its scores"
   ]
  },
  {
   "cell_type": "code",
   "execution_count": 80,
   "metadata": {},
   "outputs": [
    {
     "name": "stdout",
     "output_type": "stream",
     "text": [
      "\tLoss: 0.0289\t|\tAccuracy: 0.8\n"
     ]
    }
   ],
   "source": [
    "test_loss, test_acc = test_classification(test_dataset, model=model, criterion=criterion, batch_size=BATCH_SIZE, device=device)\n",
    "print(f'\\tLoss: {test_loss:.4f}\\t|\\tAccuracy: {test_acc:.1f}')"
   ]
  },
  {
   "cell_type": "code",
   "execution_count": null,
   "metadata": {},
   "outputs": [],
   "source": []
  }
 ],
 "metadata": {
  "kernelspec": {
   "display_name": "Python 3",
   "language": "python",
   "name": "python3"
  },
  "language_info": {
   "codemirror_mode": {
    "name": "ipython",
    "version": 3
   },
   "file_extension": ".py",
   "mimetype": "text/x-python",
   "name": "python",
   "nbconvert_exporter": "python",
   "pygments_lexer": "ipython3",
   "version": "3.7.6"
  }
 },
 "nbformat": 4,
 "nbformat_minor": 4
}
